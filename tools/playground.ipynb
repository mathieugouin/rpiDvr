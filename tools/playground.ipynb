{
 "cells": [
  {
   "cell_type": "markdown",
   "id": "1b4b86fc-b76a-42af-abe9-9607c14d9113",
   "metadata": {},
   "source": [
    "# Import"
   ]
  },
  {
   "cell_type": "code",
   "execution_count": 1,
   "id": "e9bcb2d3-884d-4a59-b173-ac8f04ded5c8",
   "metadata": {},
   "outputs": [],
   "source": [
    "%load_ext autoreload\n",
    "%autoreload 2"
   ]
  },
  {
   "cell_type": "code",
   "execution_count": 2,
   "id": "b49626f1-f9df-4c24-bea2-7b484db3faf5",
   "metadata": {},
   "outputs": [],
   "source": [
    "import pandas as pd\n",
    "import numpy as np\n",
    "import matplotlib.pyplot as plt\n",
    "#import seaborn as sns"
   ]
  },
  {
   "cell_type": "code",
   "execution_count": 3,
   "id": "7def6b78-3036-4467-bb72-6061f359cd13",
   "metadata": {},
   "outputs": [],
   "source": [
    "# Adjust figure size to be bigger:\n",
    "plt.rcParams['figure.figsize'] = [15, 6]"
   ]
  },
  {
   "cell_type": "code",
   "execution_count": 4,
   "id": "0001e101-8b4e-4460-9ab1-6bd2773db1b0",
   "metadata": {},
   "outputs": [],
   "source": [
    "#sns.set_theme()"
   ]
  },
  {
   "cell_type": "markdown",
   "id": "aa13e4c5-0421-415f-bf81-e2bff2a7dd19",
   "metadata": {},
   "source": [
    "# Check Recordings"
   ]
  },
  {
   "cell_type": "code",
   "execution_count": 5,
   "id": "3f681a0a-a805-4c60-ac64-92401c0456aa",
   "metadata": {},
   "outputs": [],
   "source": [
    "import tvh_check_upcoming_recs as check"
   ]
  },
  {
   "cell_type": "markdown",
   "id": "96aa631c-a9d3-4807-9f08-171daf5612d9",
   "metadata": {},
   "source": [
    "## Load DataFrame"
   ]
  },
  {
   "cell_type": "code",
   "execution_count": 6,
   "id": "10c971d4-dd5a-4857-b821-7a1305f2bfb4",
   "metadata": {},
   "outputs": [
    {
     "data": {
      "text/html": [
       "<div>\n",
       "<style scoped>\n",
       "    .dataframe tbody tr th:only-of-type {\n",
       "        vertical-align: middle;\n",
       "    }\n",
       "\n",
       "    .dataframe tbody tr th {\n",
       "        vertical-align: top;\n",
       "    }\n",
       "\n",
       "    .dataframe thead th {\n",
       "        text-align: right;\n",
       "    }\n",
       "</style>\n",
       "<table border=\"1\" class=\"dataframe\">\n",
       "  <thead>\n",
       "    <tr style=\"text-align: right;\">\n",
       "      <th>ATTRIBUTES</th>\n",
       "      <th>Title</th>\n",
       "      <th>Channel</th>\n",
       "      <th>Start</th>\n",
       "      <th>Stop</th>\n",
       "      <th>Duration</th>\n",
       "    </tr>\n",
       "    <tr>\n",
       "      <th>INDEX</th>\n",
       "      <th></th>\n",
       "      <th></th>\n",
       "      <th></th>\n",
       "      <th></th>\n",
       "      <th></th>\n",
       "    </tr>\n",
       "  </thead>\n",
       "  <tbody>\n",
       "    <tr>\n",
       "      <th>0</th>\n",
       "      <td>Entre deux draps</td>\n",
       "      <td>Noovo</td>\n",
       "      <td>2023-08-15 19:30:00</td>\n",
       "      <td>2023-08-15 20:00:00</td>\n",
       "      <td>0 days 00:30:00</td>\n",
       "    </tr>\n",
       "    <tr>\n",
       "      <th>1</th>\n",
       "      <td>SkyMed</td>\n",
       "      <td>CBC</td>\n",
       "      <td>2023-08-16 21:00:00</td>\n",
       "      <td>2023-08-16 22:00:00</td>\n",
       "      <td>0 days 01:00:00</td>\n",
       "    </tr>\n",
       "    <tr>\n",
       "      <th>2</th>\n",
       "      <td>...Moi non plus!</td>\n",
       "      <td>Noovo</td>\n",
       "      <td>2023-08-17 19:30:00</td>\n",
       "      <td>2023-08-17 20:00:00</td>\n",
       "      <td>0 days 00:30:00</td>\n",
       "    </tr>\n",
       "    <tr>\n",
       "      <th>3</th>\n",
       "      <td>En tout cas</td>\n",
       "      <td>TVA</td>\n",
       "      <td>2023-08-19 13:30:00</td>\n",
       "      <td>2023-08-19 14:00:00</td>\n",
       "      <td>0 days 00:30:00</td>\n",
       "    </tr>\n",
       "    <tr>\n",
       "      <th>4</th>\n",
       "      <td>Discussions avec mes parents</td>\n",
       "      <td>Radio-Canada</td>\n",
       "      <td>2023-08-21 19:30:00</td>\n",
       "      <td>2023-08-21 20:00:00</td>\n",
       "      <td>0 days 00:30:00</td>\n",
       "    </tr>\n",
       "    <tr>\n",
       "      <th>5</th>\n",
       "      <td>Contre-offre</td>\n",
       "      <td>Noovo</td>\n",
       "      <td>2023-08-21 19:30:00</td>\n",
       "      <td>2023-08-21 20:00:00</td>\n",
       "      <td>0 days 00:30:00</td>\n",
       "    </tr>\n",
       "    <tr>\n",
       "      <th>6</th>\n",
       "      <td>Entre deux draps</td>\n",
       "      <td>Noovo</td>\n",
       "      <td>2023-08-22 19:30:00</td>\n",
       "      <td>2023-08-22 20:00:00</td>\n",
       "      <td>0 days 00:30:00</td>\n",
       "    </tr>\n",
       "    <tr>\n",
       "      <th>7</th>\n",
       "      <td>SkyMed</td>\n",
       "      <td>CBC</td>\n",
       "      <td>2023-08-23 21:00:00</td>\n",
       "      <td>2023-08-23 22:00:00</td>\n",
       "      <td>0 days 01:00:00</td>\n",
       "    </tr>\n",
       "    <tr>\n",
       "      <th>8</th>\n",
       "      <td>...Moi non plus!</td>\n",
       "      <td>Noovo</td>\n",
       "      <td>2023-08-24 19:30:00</td>\n",
       "      <td>2023-08-24 20:00:00</td>\n",
       "      <td>0 days 00:30:00</td>\n",
       "    </tr>\n",
       "    <tr>\n",
       "      <th>9</th>\n",
       "      <td>En tout cas</td>\n",
       "      <td>TVA</td>\n",
       "      <td>2023-08-26 13:30:00</td>\n",
       "      <td>2023-08-26 14:00:00</td>\n",
       "      <td>0 days 00:30:00</td>\n",
       "    </tr>\n",
       "    <tr>\n",
       "      <th>10</th>\n",
       "      <td>Discussions avec mes parents</td>\n",
       "      <td>Radio-Canada</td>\n",
       "      <td>2023-08-28 19:30:00</td>\n",
       "      <td>2023-08-28 20:00:00</td>\n",
       "      <td>0 days 00:30:00</td>\n",
       "    </tr>\n",
       "    <tr>\n",
       "      <th>11</th>\n",
       "      <td>Contre-offre</td>\n",
       "      <td>Noovo</td>\n",
       "      <td>2023-08-28 19:30:00</td>\n",
       "      <td>2023-08-28 20:00:00</td>\n",
       "      <td>0 days 00:30:00</td>\n",
       "    </tr>\n",
       "  </tbody>\n",
       "</table>\n",
       "</div>"
      ],
      "text/plain": [
       "ATTRIBUTES                         Title       Channel               Start  \\\n",
       "INDEX                                                                        \n",
       "0                       Entre deux draps         Noovo 2023-08-15 19:30:00   \n",
       "1                                 SkyMed           CBC 2023-08-16 21:00:00   \n",
       "2                       ...Moi non plus!         Noovo 2023-08-17 19:30:00   \n",
       "3                            En tout cas           TVA 2023-08-19 13:30:00   \n",
       "4           Discussions avec mes parents  Radio-Canada 2023-08-21 19:30:00   \n",
       "5                           Contre-offre         Noovo 2023-08-21 19:30:00   \n",
       "6                       Entre deux draps         Noovo 2023-08-22 19:30:00   \n",
       "7                                 SkyMed           CBC 2023-08-23 21:00:00   \n",
       "8                       ...Moi non plus!         Noovo 2023-08-24 19:30:00   \n",
       "9                            En tout cas           TVA 2023-08-26 13:30:00   \n",
       "10          Discussions avec mes parents  Radio-Canada 2023-08-28 19:30:00   \n",
       "11                          Contre-offre         Noovo 2023-08-28 19:30:00   \n",
       "\n",
       "ATTRIBUTES                Stop        Duration  \n",
       "INDEX                                           \n",
       "0          2023-08-15 20:00:00 0 days 00:30:00  \n",
       "1          2023-08-16 22:00:00 0 days 01:00:00  \n",
       "2          2023-08-17 20:00:00 0 days 00:30:00  \n",
       "3          2023-08-19 14:00:00 0 days 00:30:00  \n",
       "4          2023-08-21 20:00:00 0 days 00:30:00  \n",
       "5          2023-08-21 20:00:00 0 days 00:30:00  \n",
       "6          2023-08-22 20:00:00 0 days 00:30:00  \n",
       "7          2023-08-23 22:00:00 0 days 01:00:00  \n",
       "8          2023-08-24 20:00:00 0 days 00:30:00  \n",
       "9          2023-08-26 14:00:00 0 days 00:30:00  \n",
       "10         2023-08-28 20:00:00 0 days 00:30:00  \n",
       "11         2023-08-28 20:00:00 0 days 00:30:00  "
      ]
     },
     "execution_count": 6,
     "metadata": {},
     "output_type": "execute_result"
    }
   ],
   "source": [
    "df = check.get_df()\n",
    "df"
   ]
  },
  {
   "cell_type": "markdown",
   "id": "47c9ce00-6354-4e6f-9fcc-8388c67ab6e3",
   "metadata": {},
   "source": [
    "## Test Data"
   ]
  },
  {
   "cell_type": "markdown",
   "id": "c8d0d494-52d1-4bc5-8c94-59a7d8944500",
   "metadata": {},
   "source": [
    "### Smaller Data"
   ]
  },
  {
   "cell_type": "code",
   "execution_count": 7,
   "id": "2e386114-8809-4734-8bd5-14f6411a6bcf",
   "metadata": {},
   "outputs": [
    {
     "data": {
      "text/plain": [
       "'\\ndf = df.head(10)\\ndf = df.iloc[1:4]\\ndf = df.tail(2)\\ndf.reset_index(drop=True, inplace=True)\\ndf\\n'"
      ]
     },
     "execution_count": 7,
     "metadata": {},
     "output_type": "execute_result"
    }
   ],
   "source": [
    "\"\"\"\n",
    "df = df.head(10)\n",
    "df = df.iloc[1:4]\n",
    "df = df.tail(2)\n",
    "df.reset_index(drop=True, inplace=True)\n",
    "df\n",
    "\"\"\""
   ]
  },
  {
   "cell_type": "code",
   "execution_count": 8,
   "id": "4deffd0f-ba64-4d22-bd47-8c7f51190959",
   "metadata": {},
   "outputs": [
    {
     "data": {
      "text/plain": [
       "Timestamp('2023-08-15 20:00:00')"
      ]
     },
     "execution_count": 8,
     "metadata": {},
     "output_type": "execute_result"
    }
   ],
   "source": [
    "df.loc[0, 'Stop']"
   ]
  },
  {
   "cell_type": "code",
   "execution_count": 9,
   "id": "5a1feced-6405-4306-8457-23e5467157fb",
   "metadata": {},
   "outputs": [
    {
     "data": {
      "text/plain": [
       "Timedelta('0 days 00:30:00')"
      ]
     },
     "execution_count": 9,
     "metadata": {},
     "output_type": "execute_result"
    }
   ],
   "source": [
    "df.loc[0, 'Stop'] - df.loc[0, 'Start']"
   ]
  },
  {
   "cell_type": "code",
   "execution_count": 10,
   "id": "51cd6b28-f263-4a56-9a4e-876415d52719",
   "metadata": {},
   "outputs": [
    {
     "data": {
      "text/plain": [
       "pandas._libs.tslibs.timedeltas.Timedelta"
      ]
     },
     "execution_count": 10,
     "metadata": {},
     "output_type": "execute_result"
    }
   ],
   "source": [
    "type(_)"
   ]
  },
  {
   "cell_type": "markdown",
   "id": "72d21715-275b-476c-b909-8f2f31d72175",
   "metadata": {},
   "source": [
    "### Fudged Data"
   ]
  },
  {
   "cell_type": "code",
   "execution_count": 11,
   "id": "d73d8266-ba32-44ee-b853-f785885b4ac7",
   "metadata": {},
   "outputs": [
    {
     "data": {
      "text/html": [
       "<div>\n",
       "<style scoped>\n",
       "    .dataframe tbody tr th:only-of-type {\n",
       "        vertical-align: middle;\n",
       "    }\n",
       "\n",
       "    .dataframe tbody tr th {\n",
       "        vertical-align: top;\n",
       "    }\n",
       "\n",
       "    .dataframe thead th {\n",
       "        text-align: right;\n",
       "    }\n",
       "</style>\n",
       "<table border=\"1\" class=\"dataframe\">\n",
       "  <thead>\n",
       "    <tr style=\"text-align: right;\">\n",
       "      <th>ATTRIBUTES</th>\n",
       "      <th>Start</th>\n",
       "      <th>Stop</th>\n",
       "    </tr>\n",
       "    <tr>\n",
       "      <th>INDEX</th>\n",
       "      <th></th>\n",
       "      <th></th>\n",
       "    </tr>\n",
       "  </thead>\n",
       "  <tbody>\n",
       "    <tr>\n",
       "      <th>0</th>\n",
       "      <td>0</td>\n",
       "      <td>4</td>\n",
       "    </tr>\n",
       "    <tr>\n",
       "      <th>1</th>\n",
       "      <td>0</td>\n",
       "      <td>1</td>\n",
       "    </tr>\n",
       "    <tr>\n",
       "      <th>2</th>\n",
       "      <td>1</td>\n",
       "      <td>2</td>\n",
       "    </tr>\n",
       "    <tr>\n",
       "      <th>3</th>\n",
       "      <td>2</td>\n",
       "      <td>3</td>\n",
       "    </tr>\n",
       "    <tr>\n",
       "      <th>4</th>\n",
       "      <td>3</td>\n",
       "      <td>4</td>\n",
       "    </tr>\n",
       "    <tr>\n",
       "      <th>5</th>\n",
       "      <td>4</td>\n",
       "      <td>8</td>\n",
       "    </tr>\n",
       "    <tr>\n",
       "      <th>6</th>\n",
       "      <td>5</td>\n",
       "      <td>6</td>\n",
       "    </tr>\n",
       "    <tr>\n",
       "      <th>7</th>\n",
       "      <td>6</td>\n",
       "      <td>8</td>\n",
       "    </tr>\n",
       "    <tr>\n",
       "      <th>8</th>\n",
       "      <td>6</td>\n",
       "      <td>7</td>\n",
       "    </tr>\n",
       "    <tr>\n",
       "      <th>9</th>\n",
       "      <td>9</td>\n",
       "      <td>10</td>\n",
       "    </tr>\n",
       "  </tbody>\n",
       "</table>\n",
       "</div>"
      ],
      "text/plain": [
       "ATTRIBUTES  Start  Stop\n",
       "INDEX                  \n",
       "0               0     4\n",
       "1               0     1\n",
       "2               1     2\n",
       "3               2     3\n",
       "4               3     4\n",
       "5               4     8\n",
       "6               5     6\n",
       "7               6     8\n",
       "8               6     7\n",
       "9               9    10"
      ]
     },
     "execution_count": 11,
     "metadata": {},
     "output_type": "execute_result"
    }
   ],
   "source": [
    "# \"\"\"\n",
    "df = pd.DataFrame({'Start': [ 0, 0, 1, 2, 3, 4, 5, 6, 6, 9],\n",
    "                   'Stop' : [ 1, 4, 2, 3, 4, 8, 6, 7, 8, 10]})\n",
    "df.sort_values(by=['Start', 'Stop'], ascending=[True, False], inplace=True, ignore_index=True)\n",
    "df.rename_axis('ATTRIBUTES', axis='columns', inplace=True)\n",
    "df.rename_axis('INDEX', axis='index', inplace=True)\n",
    "df\n",
    "# \"\"\""
   ]
  },
  {
   "cell_type": "markdown",
   "id": "331dd886-efd8-406d-8cda-5a2169f7c333",
   "metadata": {},
   "source": [
    "## Analysis"
   ]
  },
  {
   "cell_type": "markdown",
   "id": "6c40ba66-b1ca-492a-8084-3dc48f8bd481",
   "metadata": {},
   "source": [
    "### Graph"
   ]
  },
  {
   "cell_type": "code",
   "execution_count": 12,
   "id": "f8051a93-9ac6-4a5f-9685-8cde14c052cc",
   "metadata": {},
   "outputs": [],
   "source": [
    "def plot_rec(df):\n",
    "    offset = df['Start'].min()\n",
    "    x1 = df['Start'] #- offset\n",
    "    x2 = df['Stop'] #- offset\n",
    "    plt.barh(left=x1, width=x2-x1, y=df.index, height=.8)\n",
    "    plt.grid()"
   ]
  },
  {
   "cell_type": "code",
   "execution_count": 13,
   "id": "fc126d8c-6b15-4861-8b86-f4f298dd91b3",
   "metadata": {},
   "outputs": [
    {
     "data": {
      "image/png": "[encoded data removed]",
      "text/plain": [
       "<Figure size 1080x432 with 1 Axes>"
      ]
     },
     "metadata": {
      "needs_background": "light"
     },
     "output_type": "display_data"
    }
   ],
   "source": [
    "plot_rec(df)"
   ]
  },
  {
   "cell_type": "markdown",
   "id": "8271b252-2e0a-4182-b806-a60182c2e03b",
   "metadata": {},
   "source": [
    "### Processing"
   ]
  },
  {
   "cell_type": "markdown",
   "id": "38ceadeb-fcff-45b5-adde-804e5d6aa311",
   "metadata": {},
   "source": [
    "How to analyze:\n",
    "* Loop on the df and store the start & stop time in a new df, in the same column with a column attribute indicating start or stop\n",
    "* Sort this new df ascending according to the time column, put stop first when same time.\n",
    "* Loop this df:\n",
    "  * Increment a tuner count when on a start time\n",
    "  * Decrement a tuner count when on a stop time"
   ]
  },
  {
   "cell_type": "code",
   "execution_count": 14,
   "id": "26ddb0c0-2626-4620-a767-a07f6633367d",
   "metadata": {},
   "outputs": [
    {
     "data": {
      "text/html": [
       "<div>\n",
       "<style scoped>\n",
       "    .dataframe tbody tr th:only-of-type {\n",
       "        vertical-align: middle;\n",
       "    }\n",
       "\n",
       "    .dataframe tbody tr th {\n",
       "        vertical-align: top;\n",
       "    }\n",
       "\n",
       "    .dataframe thead th {\n",
       "        text-align: right;\n",
       "    }\n",
       "</style>\n",
       "<table border=\"1\" class=\"dataframe\">\n",
       "  <thead>\n",
       "    <tr style=\"text-align: right;\">\n",
       "      <th>ATTRIBUTES</th>\n",
       "      <th>Time</th>\n",
       "      <th>Type</th>\n",
       "      <th>RecIndex</th>\n",
       "    </tr>\n",
       "    <tr>\n",
       "      <th>INDEX</th>\n",
       "      <th></th>\n",
       "      <th></th>\n",
       "      <th></th>\n",
       "    </tr>\n",
       "  </thead>\n",
       "  <tbody>\n",
       "    <tr>\n",
       "      <th>0</th>\n",
       "      <td>0</td>\n",
       "      <td>1</td>\n",
       "      <td>0</td>\n",
       "    </tr>\n",
       "    <tr>\n",
       "      <th>1</th>\n",
       "      <td>0</td>\n",
       "      <td>1</td>\n",
       "      <td>1</td>\n",
       "    </tr>\n",
       "    <tr>\n",
       "      <th>2</th>\n",
       "      <td>1</td>\n",
       "      <td>0</td>\n",
       "      <td>1</td>\n",
       "    </tr>\n",
       "    <tr>\n",
       "      <th>3</th>\n",
       "      <td>1</td>\n",
       "      <td>1</td>\n",
       "      <td>2</td>\n",
       "    </tr>\n",
       "    <tr>\n",
       "      <th>4</th>\n",
       "      <td>2</td>\n",
       "      <td>0</td>\n",
       "      <td>2</td>\n",
       "    </tr>\n",
       "    <tr>\n",
       "      <th>5</th>\n",
       "      <td>2</td>\n",
       "      <td>1</td>\n",
       "      <td>3</td>\n",
       "    </tr>\n",
       "    <tr>\n",
       "      <th>6</th>\n",
       "      <td>3</td>\n",
       "      <td>0</td>\n",
       "      <td>3</td>\n",
       "    </tr>\n",
       "    <tr>\n",
       "      <th>7</th>\n",
       "      <td>3</td>\n",
       "      <td>1</td>\n",
       "      <td>4</td>\n",
       "    </tr>\n",
       "    <tr>\n",
       "      <th>8</th>\n",
       "      <td>4</td>\n",
       "      <td>0</td>\n",
       "      <td>0</td>\n",
       "    </tr>\n",
       "    <tr>\n",
       "      <th>9</th>\n",
       "      <td>4</td>\n",
       "      <td>0</td>\n",
       "      <td>4</td>\n",
       "    </tr>\n",
       "    <tr>\n",
       "      <th>10</th>\n",
       "      <td>4</td>\n",
       "      <td>1</td>\n",
       "      <td>5</td>\n",
       "    </tr>\n",
       "    <tr>\n",
       "      <th>11</th>\n",
       "      <td>5</td>\n",
       "      <td>1</td>\n",
       "      <td>6</td>\n",
       "    </tr>\n",
       "    <tr>\n",
       "      <th>12</th>\n",
       "      <td>6</td>\n",
       "      <td>0</td>\n",
       "      <td>6</td>\n",
       "    </tr>\n",
       "    <tr>\n",
       "      <th>13</th>\n",
       "      <td>6</td>\n",
       "      <td>1</td>\n",
       "      <td>7</td>\n",
       "    </tr>\n",
       "    <tr>\n",
       "      <th>14</th>\n",
       "      <td>6</td>\n",
       "      <td>1</td>\n",
       "      <td>8</td>\n",
       "    </tr>\n",
       "    <tr>\n",
       "      <th>15</th>\n",
       "      <td>7</td>\n",
       "      <td>0</td>\n",
       "      <td>8</td>\n",
       "    </tr>\n",
       "    <tr>\n",
       "      <th>16</th>\n",
       "      <td>8</td>\n",
       "      <td>0</td>\n",
       "      <td>5</td>\n",
       "    </tr>\n",
       "    <tr>\n",
       "      <th>17</th>\n",
       "      <td>8</td>\n",
       "      <td>0</td>\n",
       "      <td>7</td>\n",
       "    </tr>\n",
       "    <tr>\n",
       "      <th>18</th>\n",
       "      <td>9</td>\n",
       "      <td>1</td>\n",
       "      <td>9</td>\n",
       "    </tr>\n",
       "    <tr>\n",
       "      <th>19</th>\n",
       "      <td>10</td>\n",
       "      <td>0</td>\n",
       "      <td>9</td>\n",
       "    </tr>\n",
       "  </tbody>\n",
       "</table>\n",
       "</div>"
      ],
      "text/plain": [
       "ATTRIBUTES  Time  Type  RecIndex\n",
       "INDEX                           \n",
       "0              0     1         0\n",
       "1              0     1         1\n",
       "2              1     0         1\n",
       "3              1     1         2\n",
       "4              2     0         2\n",
       "5              2     1         3\n",
       "6              3     0         3\n",
       "7              3     1         4\n",
       "8              4     0         0\n",
       "9              4     0         4\n",
       "10             4     1         5\n",
       "11             5     1         6\n",
       "12             6     0         6\n",
       "13             6     1         7\n",
       "14             6     1         8\n",
       "15             7     0         8\n",
       "16             8     0         5\n",
       "17             8     0         7\n",
       "18             9     1         9\n",
       "19            10     0         9"
      ]
     },
     "execution_count": 14,
     "metadata": {},
     "output_type": "execute_result"
    }
   ],
   "source": [
    "data = []\n",
    "for index, row in df.iterrows():\n",
    "    data.append([row['Start'], 1, index])\n",
    "    data.append([row['Stop'], 0, index])\n",
    "\n",
    "dfa = pd.DataFrame(data=data, columns=['Time', 'Type', 'RecIndex'])\n",
    "dfa.sort_values(by=['Time', 'Type', 'RecIndex'], ascending=[True, True, True], inplace=True, ignore_index=True)\n",
    "dfa.rename_axis('ATTRIBUTES', axis='columns', inplace=True)\n",
    "dfa.rename_axis('INDEX', axis='index', inplace=True)\n",
    "\n",
    "dfa"
   ]
  },
  {
   "cell_type": "code",
   "execution_count": 15,
   "id": "8c7cc69a-0069-4c9b-a97a-d6ef69e94520",
   "metadata": {},
   "outputs": [
    {
     "data": {
      "text/html": [
       "<div>\n",
       "<style scoped>\n",
       "    .dataframe tbody tr th:only-of-type {\n",
       "        vertical-align: middle;\n",
       "    }\n",
       "\n",
       "    .dataframe tbody tr th {\n",
       "        vertical-align: top;\n",
       "    }\n",
       "\n",
       "    .dataframe thead th {\n",
       "        text-align: right;\n",
       "    }\n",
       "</style>\n",
       "<table border=\"1\" class=\"dataframe\">\n",
       "  <thead>\n",
       "    <tr style=\"text-align: right;\">\n",
       "      <th>ATTRIBUTES</th>\n",
       "      <th>Time</th>\n",
       "      <th>Type</th>\n",
       "      <th>RecIndex</th>\n",
       "    </tr>\n",
       "  </thead>\n",
       "  <tbody>\n",
       "    <tr>\n",
       "      <th>count</th>\n",
       "      <td>20.000000</td>\n",
       "      <td>20.000000</td>\n",
       "      <td>20.000000</td>\n",
       "    </tr>\n",
       "    <tr>\n",
       "      <th>mean</th>\n",
       "      <td>4.450000</td>\n",
       "      <td>0.500000</td>\n",
       "      <td>4.500000</td>\n",
       "    </tr>\n",
       "    <tr>\n",
       "      <th>std</th>\n",
       "      <td>2.999561</td>\n",
       "      <td>0.512989</td>\n",
       "      <td>2.946898</td>\n",
       "    </tr>\n",
       "    <tr>\n",
       "      <th>min</th>\n",
       "      <td>0.000000</td>\n",
       "      <td>0.000000</td>\n",
       "      <td>0.000000</td>\n",
       "    </tr>\n",
       "    <tr>\n",
       "      <th>25%</th>\n",
       "      <td>2.000000</td>\n",
       "      <td>0.000000</td>\n",
       "      <td>2.000000</td>\n",
       "    </tr>\n",
       "    <tr>\n",
       "      <th>50%</th>\n",
       "      <td>4.000000</td>\n",
       "      <td>0.500000</td>\n",
       "      <td>4.500000</td>\n",
       "    </tr>\n",
       "    <tr>\n",
       "      <th>75%</th>\n",
       "      <td>6.250000</td>\n",
       "      <td>1.000000</td>\n",
       "      <td>7.000000</td>\n",
       "    </tr>\n",
       "    <tr>\n",
       "      <th>max</th>\n",
       "      <td>10.000000</td>\n",
       "      <td>1.000000</td>\n",
       "      <td>9.000000</td>\n",
       "    </tr>\n",
       "  </tbody>\n",
       "</table>\n",
       "</div>"
      ],
      "text/plain": [
       "ATTRIBUTES       Time       Type   RecIndex\n",
       "count       20.000000  20.000000  20.000000\n",
       "mean         4.450000   0.500000   4.500000\n",
       "std          2.999561   0.512989   2.946898\n",
       "min          0.000000   0.000000   0.000000\n",
       "25%          2.000000   0.000000   2.000000\n",
       "50%          4.000000   0.500000   4.500000\n",
       "75%          6.250000   1.000000   7.000000\n",
       "max         10.000000   1.000000   9.000000"
      ]
     },
     "execution_count": 15,
     "metadata": {},
     "output_type": "execute_result"
    }
   ],
   "source": [
    "dfa.describe()"
   ]
  },
  {
   "cell_type": "code",
   "execution_count": 16,
   "id": "87fea427-9817-4b1b-9882-f4a893b9a14d",
   "metadata": {},
   "outputs": [
    {
     "data": {
      "text/html": [
       "<div>\n",
       "<style scoped>\n",
       "    .dataframe tbody tr th:only-of-type {\n",
       "        vertical-align: middle;\n",
       "    }\n",
       "\n",
       "    .dataframe tbody tr th {\n",
       "        vertical-align: top;\n",
       "    }\n",
       "\n",
       "    .dataframe thead th {\n",
       "        text-align: right;\n",
       "    }\n",
       "</style>\n",
       "<table border=\"1\" class=\"dataframe\">\n",
       "  <thead>\n",
       "    <tr style=\"text-align: right;\">\n",
       "      <th>ATTRIBUTES</th>\n",
       "      <th>Start</th>\n",
       "      <th>Stop</th>\n",
       "      <th>NbTunerRequired</th>\n",
       "    </tr>\n",
       "    <tr>\n",
       "      <th>INDEX</th>\n",
       "      <th></th>\n",
       "      <th></th>\n",
       "      <th></th>\n",
       "    </tr>\n",
       "  </thead>\n",
       "  <tbody>\n",
       "    <tr>\n",
       "      <th>0</th>\n",
       "      <td>0</td>\n",
       "      <td>4</td>\n",
       "      <td>0</td>\n",
       "    </tr>\n",
       "    <tr>\n",
       "      <th>1</th>\n",
       "      <td>0</td>\n",
       "      <td>1</td>\n",
       "      <td>0</td>\n",
       "    </tr>\n",
       "    <tr>\n",
       "      <th>2</th>\n",
       "      <td>1</td>\n",
       "      <td>2</td>\n",
       "      <td>0</td>\n",
       "    </tr>\n",
       "    <tr>\n",
       "      <th>3</th>\n",
       "      <td>2</td>\n",
       "      <td>3</td>\n",
       "      <td>0</td>\n",
       "    </tr>\n",
       "    <tr>\n",
       "      <th>4</th>\n",
       "      <td>3</td>\n",
       "      <td>4</td>\n",
       "      <td>0</td>\n",
       "    </tr>\n",
       "  </tbody>\n",
       "</table>\n",
       "</div>"
      ],
      "text/plain": [
       "ATTRIBUTES  Start  Stop  NbTunerRequired\n",
       "INDEX                                   \n",
       "0               0     4                0\n",
       "1               0     1                0\n",
       "2               1     2                0\n",
       "3               2     3                0\n",
       "4               3     4                0"
      ]
     },
     "execution_count": 16,
     "metadata": {},
     "output_type": "execute_result"
    }
   ],
   "source": [
    "df['NbTunerRequired'] = 0\n",
    "df.head()"
   ]
  },
  {
   "cell_type": "code",
   "execution_count": 17,
   "id": "dc4a4f0a-205c-4891-8e8f-feb275d6e451",
   "metadata": {},
   "outputs": [
    {
     "name": "stdout",
     "output_type": "stream",
     "text": [
      "--------------------------------------------------\n",
      "ATTRIBUTES  Start  Stop  NbTunerRequired\n",
      "INDEX                                   \n",
      "5               4     8                3\n",
      "7               6     8                3\n",
      "8               6     7                3\n"
     ]
    }
   ],
   "source": [
    "recording_stack = []\n",
    "for index, row in dfa.iterrows():\n",
    "    if row['Type'] > 0: # Start\n",
    "        recording_stack.append(row['RecIndex'])\n",
    "        df.loc[recording_stack, 'NbTunerRequired'] = len(recording_stack)\n",
    "        if len(recording_stack) > check.MAX_CONCURRENT_RECORDING:\n",
    "            print('--------------------------------------------------')\n",
    "            print(df.loc[recording_stack])\n",
    "    else:\n",
    "        _ = recording_stack.pop()"
   ]
  },
  {
   "cell_type": "code",
   "execution_count": 18,
   "id": "f689dbd1-da5a-41b1-9d48-79a5a6e0244e",
   "metadata": {},
   "outputs": [
    {
     "data": {
      "text/html": [
       "<div>\n",
       "<style scoped>\n",
       "    .dataframe tbody tr th:only-of-type {\n",
       "        vertical-align: middle;\n",
       "    }\n",
       "\n",
       "    .dataframe tbody tr th {\n",
       "        vertical-align: top;\n",
       "    }\n",
       "\n",
       "    .dataframe thead th {\n",
       "        text-align: right;\n",
       "    }\n",
       "</style>\n",
       "<table border=\"1\" class=\"dataframe\">\n",
       "  <thead>\n",
       "    <tr style=\"text-align: right;\">\n",
       "      <th>ATTRIBUTES</th>\n",
       "      <th>Start</th>\n",
       "      <th>Stop</th>\n",
       "      <th>NbTunerRequired</th>\n",
       "    </tr>\n",
       "    <tr>\n",
       "      <th>INDEX</th>\n",
       "      <th></th>\n",
       "      <th></th>\n",
       "      <th></th>\n",
       "    </tr>\n",
       "  </thead>\n",
       "  <tbody>\n",
       "    <tr>\n",
       "      <th>5</th>\n",
       "      <td>4</td>\n",
       "      <td>8</td>\n",
       "      <td>3</td>\n",
       "    </tr>\n",
       "    <tr>\n",
       "      <th>7</th>\n",
       "      <td>6</td>\n",
       "      <td>8</td>\n",
       "      <td>3</td>\n",
       "    </tr>\n",
       "    <tr>\n",
       "      <th>8</th>\n",
       "      <td>6</td>\n",
       "      <td>7</td>\n",
       "      <td>3</td>\n",
       "    </tr>\n",
       "  </tbody>\n",
       "</table>\n",
       "</div>"
      ],
      "text/plain": [
       "ATTRIBUTES  Start  Stop  NbTunerRequired\n",
       "INDEX                                   \n",
       "5               4     8                3\n",
       "7               6     8                3\n",
       "8               6     7                3"
      ]
     },
     "execution_count": 18,
     "metadata": {},
     "output_type": "execute_result"
    }
   ],
   "source": [
    "df[df['NbTunerRequired'] > check.MAX_CONCURRENT_RECORDING]"
   ]
  },
  {
   "cell_type": "code",
   "execution_count": 19,
   "id": "4b50d124-37f2-42fd-92a4-a7e091e6d3e9",
   "metadata": {},
   "outputs": [
    {
     "name": "stdout",
     "output_type": "stream",
     "text": [
      "--------------------------------------------------\n",
      "ATTRIBUTES  Start  Stop  NbTunerRequired\n",
      "INDEX                                   \n",
      "5               4     8                3\n",
      "7               6     8                3\n",
      "8               6     7                3\n"
     ]
    },
    {
     "data": {
      "text/html": [
       "<div>\n",
       "<style scoped>\n",
       "    .dataframe tbody tr th:only-of-type {\n",
       "        vertical-align: middle;\n",
       "    }\n",
       "\n",
       "    .dataframe tbody tr th {\n",
       "        vertical-align: top;\n",
       "    }\n",
       "\n",
       "    .dataframe thead th {\n",
       "        text-align: right;\n",
       "    }\n",
       "</style>\n",
       "<table border=\"1\" class=\"dataframe\">\n",
       "  <thead>\n",
       "    <tr style=\"text-align: right;\">\n",
       "      <th>ATTRIBUTES</th>\n",
       "      <th>Start</th>\n",
       "      <th>Stop</th>\n",
       "      <th>NbTunerRequired</th>\n",
       "    </tr>\n",
       "    <tr>\n",
       "      <th>INDEX</th>\n",
       "      <th></th>\n",
       "      <th></th>\n",
       "      <th></th>\n",
       "    </tr>\n",
       "  </thead>\n",
       "  <tbody>\n",
       "    <tr>\n",
       "      <th>5</th>\n",
       "      <td>4</td>\n",
       "      <td>8</td>\n",
       "      <td>3</td>\n",
       "    </tr>\n",
       "    <tr>\n",
       "      <th>7</th>\n",
       "      <td>6</td>\n",
       "      <td>8</td>\n",
       "      <td>3</td>\n",
       "    </tr>\n",
       "    <tr>\n",
       "      <th>8</th>\n",
       "      <td>6</td>\n",
       "      <td>7</td>\n",
       "      <td>3</td>\n",
       "    </tr>\n",
       "  </tbody>\n",
       "</table>\n",
       "</div>"
      ],
      "text/plain": [
       "ATTRIBUTES  Start  Stop  NbTunerRequired\n",
       "INDEX                                   \n",
       "5               4     8                3\n",
       "7               6     8                3\n",
       "8               6     7                3"
      ]
     },
     "execution_count": 19,
     "metadata": {},
     "output_type": "execute_result"
    }
   ],
   "source": [
    "check.analyze_df(df)"
   ]
  },
  {
   "cell_type": "markdown",
   "id": "35fc8623-34fe-4b30-b4dc-e81072af910c",
   "metadata": {},
   "source": [
    "## All-in-one"
   ]
  },
  {
   "cell_type": "code",
   "execution_count": 20,
   "id": "f115fe53-2de2-42cb-b78a-e689496d10f2",
   "metadata": {},
   "outputs": [
    {
     "data": {
      "text/html": [
       "<div>\n",
       "<style scoped>\n",
       "    .dataframe tbody tr th:only-of-type {\n",
       "        vertical-align: middle;\n",
       "    }\n",
       "\n",
       "    .dataframe tbody tr th {\n",
       "        vertical-align: top;\n",
       "    }\n",
       "\n",
       "    .dataframe thead th {\n",
       "        text-align: right;\n",
       "    }\n",
       "</style>\n",
       "<table border=\"1\" class=\"dataframe\">\n",
       "  <thead>\n",
       "    <tr style=\"text-align: right;\">\n",
       "      <th>ATTRIBUTES</th>\n",
       "      <th>Title</th>\n",
       "      <th>Channel</th>\n",
       "      <th>Start</th>\n",
       "      <th>Stop</th>\n",
       "      <th>Duration</th>\n",
       "      <th>NbTunerRequired</th>\n",
       "    </tr>\n",
       "    <tr>\n",
       "      <th>INDEX</th>\n",
       "      <th></th>\n",
       "      <th></th>\n",
       "      <th></th>\n",
       "      <th></th>\n",
       "      <th></th>\n",
       "      <th></th>\n",
       "    </tr>\n",
       "  </thead>\n",
       "  <tbody>\n",
       "  </tbody>\n",
       "</table>\n",
       "</div>"
      ],
      "text/plain": [
       "Empty DataFrame\n",
       "Columns: [Title, Channel, Start, Stop, Duration, NbTunerRequired]\n",
       "Index: []"
      ]
     },
     "execution_count": 20,
     "metadata": {},
     "output_type": "execute_result"
    }
   ],
   "source": [
    "check.analyze_df(check.get_df())"
   ]
  },
  {
   "cell_type": "markdown",
   "id": "28a61cb6-1560-454c-a193-6da7e107fa60",
   "metadata": {},
   "source": [
    "# Re-enable autorecordings"
   ]
  },
  {
   "cell_type": "code",
   "execution_count": 21,
   "id": "97d0acb3-1145-4baa-8ce6-7c20c519a203",
   "metadata": {},
   "outputs": [],
   "source": [
    "import re"
   ]
  },
  {
   "cell_type": "code",
   "execution_count": 22,
   "id": "a1b3a64c-28a4-4893-ad7d-232e073861b9",
   "metadata": {},
   "outputs": [],
   "source": [
    "import tvh_reenable_autorecs as rea"
   ]
  },
  {
   "cell_type": "code",
   "execution_count": 23,
   "id": "8ba7562b-87ff-46b6-b7ee-4529e194acc1",
   "metadata": {},
   "outputs": [
    {
     "data": {
      "text/plain": [
       "['__builtins__',\n",
       " '__cached__',\n",
       " '__doc__',\n",
       " '__file__',\n",
       " '__loader__',\n",
       " '__name__',\n",
       " '__package__',\n",
       " '__spec__',\n",
       " '_main',\n",
       " 'get_autorecs',\n",
       " 'json',\n",
       " 'set_autorec_enabled',\n",
       " 'ta',\n",
       " 'time',\n",
       " 'urllib']"
      ]
     },
     "execution_count": 23,
     "metadata": {},
     "output_type": "execute_result"
    }
   ],
   "source": [
    "dir(rea)"
   ]
  },
  {
   "cell_type": "code",
   "execution_count": 24,
   "id": "ae4445f1-7bf7-434f-88f3-49071bc8ff25",
   "metadata": {},
   "outputs": [],
   "source": [
    "ar = rea.get_autorecs()"
   ]
  },
  {
   "cell_type": "code",
   "execution_count": 25,
   "id": "a876677e-b37d-4c01-b598-8eead569cc59",
   "metadata": {},
   "outputs": [
    {
     "name": "stdout",
     "output_type": "stream",
     "text": [
      "{'uuid': '7e2b1b35e14a640ab7728e21f1da4c76', 'enabled': True, 'name': 'Entre deux draps', 'directory': 'Entre-deux-draps', 'title': 'Entre deux draps', 'fulltext': False, 'channel': '43bd2daafc3b4ee9a460ce48909673eb', 'tag': '', 'btype': 0, 'content_type': 0, 'start': 'Any', 'start_window': 'Any', 'start_extra': 0, 'stop_extra': 0, 'weekdays': [1, 2, 3, 4, 5, 6, 7], 'minduration': 0, 'maxduration': 0, 'pri': 2, 'record': 0, 'retention': 0, 'removal': 0, 'maxcount': 0, 'maxsched': 0, 'config_name': '8d0f5b7ae354d956d7fe5db25f5d0d24', 'brand': '', 'season': '', 'serieslink': '', 'creator': '192.168.1.51', 'comment': 'Entre deux draps'}\n"
     ]
    }
   ],
   "source": [
    "t = None\n",
    "for r in ar['entries']:\n",
    "    if re.search('drap', r['name']):\n",
    "        t = r\n",
    "        print(t)"
   ]
  },
  {
   "cell_type": "code",
   "execution_count": 26,
   "id": "c82efd2b-efd4-441e-9cee-42efa5f357e7",
   "metadata": {},
   "outputs": [
    {
     "data": {
      "text/plain": [
       "{}"
      ]
     },
     "execution_count": 26,
     "metadata": {},
     "output_type": "execute_result"
    }
   ],
   "source": [
    "rea.set_autorec_enabled(t['uuid'], False)"
   ]
  },
  {
   "cell_type": "code",
   "execution_count": 27,
   "id": "c36b4ba6-c8a9-49df-8e29-c24f0073e545",
   "metadata": {},
   "outputs": [
    {
     "data": {
      "text/plain": [
       "{}"
      ]
     },
     "execution_count": 27,
     "metadata": {},
     "output_type": "execute_result"
    }
   ],
   "source": [
    "rea.set_autorec_enabled(t['uuid'], True)"
   ]
  }
 ],
 "metadata": {
  "kernelspec": {
   "display_name": "Python 3",
   "language": "python",
   "name": "python3"
  },
  "language_info": {
   "codemirror_mode": {
    "name": "ipython",
    "version": 3
   },
   "file_extension": ".py",
   "mimetype": "text/x-python",
   "name": "python",
   "nbconvert_exporter": "python",
   "pygments_lexer": "ipython3",
   "version": "3.6.9"
  },
  "toc-showtags": false
 },
 "nbformat": 4,
 "nbformat_minor": 5
}
